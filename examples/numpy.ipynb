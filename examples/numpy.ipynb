{
 "cells": [
  {
   "cell_type": "markdown",
   "metadata": {},
   "source": [
    "# Numpy Example of Graph Construction and Execution"
   ]
  },
  {
   "cell_type": "markdown",
   "metadata": {},
   "source": [
    "## Graph Construction"
   ]
  },
  {
   "cell_type": "markdown",
   "metadata": {},
   "source": [
    "Source nodes for the graph are created with the `source` function taking arguments an array of `Payload` for each node to be created and a list of dimension names. "
   ]
  },
  {
   "cell_type": "code",
   "execution_count": null,
   "metadata": {},
   "outputs": [],
   "source": [
    "import numpy as np \n",
    "from cascade.fluent import Fluent, Payload\n",
    "\n",
    "payloads = np.empty((4, 5), dtype=object)\n",
    "payloads[:] = Payload(np.random.rand, [2, 3])\n",
    "start = Fluent().source(payloads, [\"x\", \"y\"])\n",
    "start"
   ]
  },
  {
   "cell_type": "markdown",
   "metadata": {},
   "source": [
    "Plotting the graph now, we will have 20 nodes"
   ]
  },
  {
   "cell_type": "code",
   "execution_count": null,
   "metadata": {},
   "outputs": [],
   "source": [
    "from cascade.graph.pyvis import to_pyvis\n",
    "\n",
    "net_graph = to_pyvis(start.graph(), notebook=True)\n",
    "net_graph.show(\"start.html\")"
   ]
  },
  {
   "cell_type": "markdown",
   "metadata": {},
   "source": [
    "With the functions such as `mean`, `std`, `minimum`, `maximum` etc we can reduce the array of nodes along a specified dimension\n",
    "all the way down to a single node"
   ]
  },
  {
   "cell_type": "code",
   "execution_count": null,
   "metadata": {},
   "outputs": [],
   "source": [
    "single = start.mean(\"x\").minimum(\"y\")"
   ]
  },
  {
   "cell_type": "markdown",
   "metadata": {},
   "source": [
    "From our initial payload in creating the source nodes, we chose a random array of shape (2, 3) inside each node. We can use `expand` to expose one of these internal dimensions into the array of nodes. To do this we need specify a new name for the dimension, its size and the axis of the internal array to take values from. After the operation, internally in each node we have arrays of shape (2,)."
   ]
  },
  {
   "cell_type": "code",
   "execution_count": null,
   "metadata": {},
   "outputs": [],
   "source": [
    "expanded = single.expand(\"z\", 3, 1, 0)\n",
    "expanded.nodes"
   ]
  },
  {
   "cell_type": "markdown",
   "metadata": {},
   "source": [
    "We can broadcast to match the shape of another existing set of nodes, which in this case creates duplicates of the single existing \n",
    "node along the z dimension. Note, this is an operation purely on the nodes of the graph and no operations are performed to the underlying arrays in each node."
   ]
  },
  {
   "cell_type": "code",
   "execution_count": null,
   "metadata": {},
   "outputs": [],
   "source": [
    "single.broadcast(expanded).nodes"
   ]
  },
  {
   "cell_type": "markdown",
   "metadata": {},
   "source": [
    "### Low Level Operations"
   ]
  },
  {
   "cell_type": "markdown",
   "metadata": {},
   "source": [
    "There are various low level functions `map`, `reduce`, and `transform` which allow the application of user-defined functions onto the array of nodes. The `map` operation applies a single payload to all nodes, or if a array of payloads is provided of the same shape as the array of nodes, then each node will get a unique payload applied to it."
   ]
  },
  {
   "cell_type": "code",
   "execution_count": null,
   "metadata": {},
   "outputs": [],
   "source": [
    "# Single payload that scales the array in each node by 2\n",
    "expanded.map(Payload(lambda x: x * 2)).nodes"
   ]
  },
  {
   "cell_type": "code",
   "execution_count": null,
   "metadata": {},
   "outputs": [],
   "source": [
    "# Or we can scale the array in each node by a different value \n",
    "mapped = expanded.map([Payload(lambda x, a=a: x * a) for a in range(1, 4)])"
   ]
  },
  {
   "cell_type": "markdown",
   "metadata": {},
   "source": [
    "Arbitrary reduction operations can be applied with the `reduce` operation, which takes arguments `Payload` and the name of the dimension the reduction should be performed along. If no dimension name is supplied, the reduction is performed along the first axis. The higher level functions `mean`, `std`, `minimum`, `maximum` are all `reduce` operations with a pre-defined payload.\n",
    "\n",
    "Finally, we have `transform` which allows the shape of the array of nodes in the subsequent action to be changed. The operation takes \n",
    "- a function of the form `func(action: Action, arg: Any) -> Action`\n",
    "- a list of values for `arg` \n",
    "- a name for new dimension along which `arg` varies\n",
    "\n",
    "The resulting nodes will be output of `func` with the different values of `arg`."
   ]
  },
  {
   "cell_type": "code",
   "execution_count": null,
   "metadata": {},
   "outputs": [],
   "source": [
    "from cascade.fluent import Action\n",
    "\n",
    "def _example_transform(action: Action, threshold: float) -> Action:\n",
    "    ret = action.map(Payload(lambda x: x if x > threshold else 0))\n",
    "    ret._add_dimension(\"threshold\", threshold)\n",
    "    return ret\n",
    "\n",
    "mapped.transform(_example_transform, [0, 1, 10], \"threshold\").nodes"
   ]
  },
  {
   "cell_type": "markdown",
   "metadata": {},
   "source": [
    "## Graph Execution"
   ]
  },
  {
   "cell_type": "markdown",
   "metadata": {},
   "source": [
    "Example graph composed by combining the various operations detailed in the Graph Construction section"
   ]
  },
  {
   "cell_type": "code",
   "execution_count": null,
   "metadata": {},
   "outputs": [],
   "source": [
    "import numpy as np \n",
    "from cascade.fluent import Payload, Fluent\n",
    "\n",
    "payloads = np.empty((4, 5), dtype=object)\n",
    "payloads[:] = Payload(np.random.rand, [2, 3])\n",
    "graph = (\n",
    "    Fluent().source(payloads, [\"x\", \"y\"])\n",
    "    .mean(\"x\")\n",
    "    .minimum(\"y\")\n",
    "    .expand(\"z\", 3, 1, 0)\n",
    "    .map([Payload(lambda x, a=a: x * a) for a in range(1, 4)])\n",
    "    .map(Payload(lambda x: print(\"RESULT\", x)))\n",
    "    .graph()\n",
    ")"
   ]
  },
  {
   "cell_type": "markdown",
   "metadata": {},
   "source": [
    "At the moment, the graphs can be executed using Dask but the Dask dynamic scheduling."
   ]
  },
  {
   "cell_type": "code",
   "execution_count": null,
   "metadata": {},
   "outputs": [],
   "source": [
    "import os\n",
    "from cascade.executor import DaskExecutor\n",
    "from cascade.scheduler import Schedule\n",
    "\n",
    "os.environ[\"DASK_LOGGING__DISTRIBUTED\"]=\"debug\"\n",
    "schedule = Schedule(graph, None, {})\n",
    "executor = DaskExecutor(schedule)\n",
    "executor.execute(memory_limit=\"10GB\", n_workers=1, threads_per_worker=1)"
   ]
  }
 ],
 "metadata": {
  "kernelspec": {
   "display_name": "env",
   "language": "python",
   "name": "python3"
  },
  "language_info": {
   "codemirror_mode": {
    "name": "ipython",
    "version": 3
   },
   "file_extension": ".py",
   "mimetype": "text/x-python",
   "name": "python",
   "nbconvert_exporter": "python",
   "pygments_lexer": "ipython3",
   "version": "3.10.10"
  }
 },
 "nbformat": 4,
 "nbformat_minor": 2
}
