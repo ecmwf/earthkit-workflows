{
 "cells": [
  {
   "cell_type": "markdown",
   "metadata": {},
   "source": [
    "# Xarray Example of Graph Execution"
   ]
  },
  {
   "cell_type": "markdown",
   "metadata": {},
   "source": [
    "## Graph Execution"
   ]
  },
  {
   "cell_type": "markdown",
   "metadata": {},
   "source": [
    "To use a different backend for the execution, pass the required backend to the `Fluent` constructor. Currently supported backends include `array_api_compat`, which is the default, `xarray` and `jax`."
   ]
  },
  {
   "cell_type": "code",
   "execution_count": null,
   "metadata": {},
   "outputs": [],
   "source": [
    "import numpy as np \n",
    "import xarray as xr\n",
    "from cascade.fluent import Fluent, Payload\n",
    "from cascade.backends.xarray_backend import XArrayBackend\n",
    "\n",
    "payloads = np.empty((4, 5), dtype=object)\n",
    "payloads[:] = Payload(xr.DataArray, [np.random.rand(2, 3)], {\"dims\": [\"a\", \"b\"]})\n",
    "graph = (\n",
    "    Fluent(backend=XArrayBackend).source(payloads, [\"x\", \"y\"])\n",
    "    .mean(\"x\")\n",
    "    .minimum(\"y\")\n",
    "    .expand(\"z\", 3, 1, 0)\n",
    "    .map([Payload(lambda x, a=a: x * a) for a in range(1, 4)])\n",
    "    .map(Payload(lambda x: print(\"RESULT\", x)))\n",
    "    .graph()\n",
    ")"
   ]
  },
  {
   "cell_type": "markdown",
   "metadata": {},
   "source": [
    "At the moment, the graphs can be executed using Dask but the Dask dynamic scheduling."
   ]
  },
  {
   "cell_type": "code",
   "execution_count": null,
   "metadata": {},
   "outputs": [],
   "source": [
    "import os\n",
    "from cascade.executor import DaskExecutor\n",
    "from cascade.scheduler import Schedule\n",
    "\n",
    "os.environ[\"DASK_LOGGING__DISTRIBUTED\"]=\"debug\"\n",
    "schedule = Schedule(graph, None, {})\n",
    "executor = DaskExecutor(schedule)\n",
    "executor.execute(memory_limit=\"10GB\", n_workers=1, threads_per_worker=1)"
   ]
  }
 ],
 "metadata": {
  "kernelspec": {
   "display_name": "env",
   "language": "python",
   "name": "python3"
  },
  "language_info": {
   "codemirror_mode": {
    "name": "ipython",
    "version": 3
   },
   "file_extension": ".py",
   "mimetype": "text/x-python",
   "name": "python",
   "nbconvert_exporter": "python",
   "pygments_lexer": "ipython3",
   "version": "3.10.10"
  }
 },
 "nbformat": 4,
 "nbformat_minor": 2
}
