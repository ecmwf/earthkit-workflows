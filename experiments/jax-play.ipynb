{
 "cells": [
  {
   "cell_type": "code",
   "execution_count": 1,
   "metadata": {},
   "outputs": [],
   "source": [
    "import jax\n",
    "jax.config.update(\"jax_enable_x64\", True) # use float64 -- jax by default uses float32"
   ]
  },
  {
   "cell_type": "code",
   "execution_count": 2,
   "metadata": {},
   "outputs": [],
   "source": [
    "def slow_f(x):\n",
    "  return x * x + x * 2"
   ]
  },
  {
   "cell_type": "code",
   "execution_count": 4,
   "metadata": {},
   "outputs": [],
   "source": [
    "x = jax.numpy.ones((5000, 5000))\n",
    "fast_f = jax.jit(slow_f)"
   ]
  },
  {
   "cell_type": "code",
   "execution_count": 5,
   "metadata": {},
   "outputs": [
    {
     "name": "stdout",
     "output_type": "stream",
     "text": [
      "77.5 ms ± 387 µs per loop (mean ± std. dev. of 7 runs, 10 loops each)\n",
      "24.8 ms ± 53.3 µs per loop (mean ± std. dev. of 7 runs, 10 loops each)\n"
     ]
    }
   ],
   "source": [
    "%timeit slow_f(x)\n",
    "%timeit fast_f(x) "
   ]
  },
  {
   "cell_type": "code",
   "execution_count": 7,
   "metadata": {},
   "outputs": [],
   "source": [
    "# a 'simple' numpy to numpy function\n",
    "def calculate_wbt_jax(tc, rh):\n",
    "    tw = (\n",
    "        tc * jax.numpy.arctan(0.151977 * jax.numpy.sqrt(rh + 8.313659))\n",
    "        + jax.numpy.arctan(tc + rh)\n",
    "        - jax.numpy.arctan(rh - 1.676331)\n",
    "        + 0.00391838 * (rh) ** (3 / 2) * jax.numpy.arctan(0.023101 * rh)\n",
    "        - 4.686035\n",
    "    )\n",
    "    return tw"
   ]
  },
  {
   "cell_type": "code",
   "execution_count": 8,
   "metadata": {},
   "outputs": [],
   "source": [
    "jax_wbt = jax.jit(calculate_wbt_jax)"
   ]
  },
  {
   "cell_type": "code",
   "execution_count": 9,
   "metadata": {},
   "outputs": [],
   "source": [
    "import numpy as np\n",
    "size = 1000000\n",
    "tc = np.random.uniform(low=5., high=25., size=size)\n",
    "rh = np.random.uniform(low=60., high=99., size=size)"
   ]
  },
  {
   "cell_type": "code",
   "execution_count": 10,
   "metadata": {},
   "outputs": [
    {
     "name": "stdout",
     "output_type": "stream",
     "text": [
      "(1000000,)\n",
      "<class 'jaxlib.xla_extension.ArrayImpl'>\n"
     ]
    }
   ],
   "source": [
    "w = jax_wbt(tc,rh)\n",
    "print(w.shape)\n",
    "print(type(w))"
   ]
  },
  {
   "cell_type": "code",
   "execution_count": 13,
   "metadata": {},
   "outputs": [
    {
     "name": "stdout",
     "output_type": "stream",
     "text": [
      "33.3 ms ± 846 µs per loop (mean ± std. dev. of 7 runs, 10 loops each)\n",
      "8.93 ms ± 10.3 µs per loop (mean ± std. dev. of 7 runs, 100 loops each)\n"
     ]
    }
   ],
   "source": [
    "# timings with memory created by numpy\n",
    "%timeit calculate_wbt_jax(tc,rh)\n",
    "%timeit jax_wbt(tc,rh)"
   ]
  },
  {
   "cell_type": "code",
   "execution_count": 14,
   "metadata": {},
   "outputs": [
    {
     "name": "stdout",
     "output_type": "stream",
     "text": [
      "16.2 ms ± 29.4 µs per loop (mean ± std. dev. of 7 runs, 100 loops each)\n",
      "8.69 ms ± 3.98 µs per loop (mean ± std. dev. of 7 runs, 100 loops each)\n"
     ]
    }
   ],
   "source": [
    "# allocating the arrays with jax seems not to make difference ON CPU when you JIT compile (no copies involved)\n",
    "# but likely to make difference on GPU\n",
    "\n",
    "jtc = jax.numpy.ones((size, ))\n",
    "jrh = jax.numpy.ones((size, ))\n",
    "\n",
    "%timeit calculate_wbt_jax(jtc,jrh)\n",
    "%timeit jax_wbt(jtc,jrh)\n"
   ]
  },
  {
   "cell_type": "code",
   "execution_count": 17,
   "metadata": {},
   "outputs": [],
   "source": [
    "import numba\n",
    "import numpy\n",
    "\n",
    "# compare with numba\n",
    "\n",
    "def calculate_wbt_numpy(tc, rh):\n",
    "    tw = (\n",
    "        tc * numpy.arctan(0.151977 * numpy.sqrt(rh + 8.313659))\n",
    "        + numpy.arctan(tc + rh)\n",
    "        - numpy.arctan(rh - 1.676331)\n",
    "        + 0.00391838 * (rh) ** (3 / 2) * numpy.arctan(0.023101 * rh)\n",
    "        - 4.686035\n",
    "    )\n",
    "    return tw\n",
    "\n",
    "nb_wbt = numba.jit(nopython=True, nogil=True, parallel=False)(calculate_wbt_numpy)"
   ]
  },
  {
   "cell_type": "code",
   "execution_count": 19,
   "metadata": {},
   "outputs": [
    {
     "name": "stdout",
     "output_type": "stream",
     "text": [
      "43.6 ms ± 53.7 µs per loop (mean ± std. dev. of 7 runs, 10 loops each)\n",
      "39.1 ms ± 28.5 µs per loop (mean ± std. dev. of 7 runs, 10 loops each)\n"
     ]
    }
   ],
   "source": [
    "# using numba brings little effect on this function since most operations rely already on numpy\n",
    "# nevertheless the timings of numba are slower than jax compiled code\n",
    "%timeit calculate_wbt_numpy(tc, rh)\n",
    "%timeit nb_wbt(tc,rh)\n"
   ]
  },
  {
   "cell_type": "markdown",
   "metadata": {},
   "source": []
  },
  {
   "cell_type": "code",
   "execution_count": 21,
   "metadata": {},
   "outputs": [],
   "source": [
    "# try Jax with more complex functions including (pure)functions that call (pure)functions \n",
    "\n",
    "def kelvin_to_celsius(tk):\n",
    "    tc = tk - 273.15\n",
    "    return tc\n",
    "\n",
    "def calculate_bgt_jax(t_k, mrt, va):\n",
    "    f = (1.1e8 * va**0.6) / (0.98 * 0.15**0.4)\n",
    "    a = f / 2\n",
    "    b = -f * t_k - mrt**4\n",
    "    rt1 = 3 ** (1 / 3)\n",
    "    rt2 = jax.numpy.sqrt(3) * jax.numpy.sqrt(27 * a**4 - 16 * b**3) + 9 * a**2\n",
    "    rt3 = 2 * 2 ** (2 / 3) * b\n",
    "    a = a.clip(min=0)\n",
    "    bgt_quartic = -1 / 2 * jax.numpy.sqrt(\n",
    "        rt3 / (rt1 * rt2 ** (1 / 3)) + (2 ** (1 / 3) * rt2 ** (1 / 3)) / 3 ** (2 / 3)\n",
    "    ) + 1 / 2 * jax.numpy.sqrt(\n",
    "        (4 * a)\n",
    "        / jax.numpy.sqrt(\n",
    "            rt3 / (rt1 * rt2 ** (1 / 3))\n",
    "            + (2 ** (1 / 3) * rt2 ** (1 / 3)) / 3 ** (2 / 3)\n",
    "        )\n",
    "        - (2 ** (1 / 3) * rt2 ** (1 / 3)) / 3 ** (2 / 3)\n",
    "        - rt3 / (rt1 * rt2 ** (1 / 3))\n",
    "    )\n",
    "    bgt_c = kelvin_to_celsius(bgt_quartic)\n",
    "    return bgt_c\n",
    "\n",
    "jax_bgt = jax.jit(calculate_bgt_jax)"
   ]
  },
  {
   "cell_type": "code",
   "execution_count": null,
   "metadata": {},
   "outputs": [],
   "source": []
  }
 ],
 "metadata": {
  "kernelspec": {
   "display_name": "cascade",
   "language": "python",
   "name": "python3"
  },
  "language_info": {
   "codemirror_mode": {
    "name": "ipython",
    "version": 3
   },
   "file_extension": ".py",
   "mimetype": "text/x-python",
   "name": "python",
   "nbconvert_exporter": "python",
   "pygments_lexer": "ipython3",
   "version": "3.10.12"
  },
  "orig_nbformat": 4
 },
 "nbformat": 4,
 "nbformat_minor": 2
}
