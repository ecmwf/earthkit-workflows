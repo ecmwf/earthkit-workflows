{
 "cells": [
  {
   "cell_type": "code",
   "execution_count": null,
   "metadata": {},
   "outputs": [],
   "source": [
    "import jax\n",
    "jax.config.update(\"jax_enable_x64\", True) # use float64 -- jax by default uses float32"
   ]
  },
  {
   "cell_type": "code",
   "execution_count": null,
   "metadata": {},
   "outputs": [],
   "source": [
    "def slow_f(x):\n",
    "  return x * x + x * 2"
   ]
  },
  {
   "cell_type": "code",
   "execution_count": null,
   "metadata": {},
   "outputs": [],
   "source": [
    "x = jax.numpy.ones((5000, 5000))\n",
    "fast_f = jax.jit(slow_f)"
   ]
  },
  {
   "cell_type": "code",
   "execution_count": null,
   "metadata": {},
   "outputs": [],
   "source": [
    "%timeit slow_f(x)\n",
    "%timeit fast_f(x) "
   ]
  },
  {
   "cell_type": "code",
   "execution_count": null,
   "metadata": {},
   "outputs": [],
   "source": [
    "# a 'simple' numpy to numpy function\n",
    "def calculate_wbt_jax(tc, rh):\n",
    "    tw = (\n",
    "        tc * jax.numpy.arctan(0.151977 * jax.numpy.sqrt(rh + 8.313659))\n",
    "        + jax.numpy.arctan(tc + rh)\n",
    "        - jax.numpy.arctan(rh - 1.676331)\n",
    "        + 0.00391838 * (rh) ** (3 / 2) * jax.numpy.arctan(0.023101 * rh)\n",
    "        - 4.686035\n",
    "    )\n",
    "    return tw"
   ]
  },
  {
   "cell_type": "code",
   "execution_count": null,
   "metadata": {},
   "outputs": [],
   "source": [
    "jax_wbt = jax.jit(calculate_wbt_jax)"
   ]
  },
  {
   "cell_type": "code",
   "execution_count": null,
   "metadata": {},
   "outputs": [],
   "source": [
    "import numpy as np\n",
    "size = 1000000\n",
    "tc = np.random.uniform(low=5., high=25., size=size)\n",
    "rh = np.random.uniform(low=60., high=99., size=size)"
   ]
  },
  {
   "cell_type": "code",
   "execution_count": null,
   "metadata": {},
   "outputs": [],
   "source": [
    "w = jax_wbt(tc,rh)\n",
    "print(w.shape)\n",
    "print(type(w))"
   ]
  },
  {
   "cell_type": "code",
   "execution_count": null,
   "metadata": {},
   "outputs": [],
   "source": [
    "# timings with memory created by numpy\n",
    "%timeit calculate_wbt_jax(tc,rh)\n",
    "%timeit jax_wbt(tc,rh)"
   ]
  },
  {
   "cell_type": "code",
   "execution_count": null,
   "metadata": {},
   "outputs": [],
   "source": [
    "# allocating the arrays with jax seems not to make difference ON CPU when you JIT compile (no copies involved)\n",
    "# but likely to make difference on GPU\n",
    "\n",
    "jtc = jax.numpy.ones((size, ))\n",
    "jrh = jax.numpy.ones((size, ))\n",
    "\n",
    "%timeit calculate_wbt_jax(jtc,jrh)\n",
    "%timeit jax_wbt(jtc,jrh)\n"
   ]
  },
  {
   "cell_type": "code",
   "execution_count": null,
   "metadata": {},
   "outputs": [],
   "source": [
    "import numba\n",
    "import numpy\n",
    "\n",
    "# compare with numba\n",
    "\n",
    "def calculate_wbt_numpy(tc, rh):\n",
    "    tw = (\n",
    "        tc * numpy.arctan(0.151977 * numpy.sqrt(rh + 8.313659))\n",
    "        + numpy.arctan(tc + rh)\n",
    "        - numpy.arctan(rh - 1.676331)\n",
    "        + 0.00391838 * (rh) ** (3 / 2) * numpy.arctan(0.023101 * rh)\n",
    "        - 4.686035\n",
    "    )\n",
    "    return tw\n",
    "\n",
    "nb_wbt = numba.jit(nopython=True, nogil=True, parallel=False)(calculate_wbt_numpy)"
   ]
  },
  {
   "cell_type": "code",
   "execution_count": null,
   "metadata": {},
   "outputs": [],
   "source": [
    "# using numba brings little effect on this function since most operations rely already on numpy\n",
    "# nevertheless the timings of numba are slower than jax compiled code\n",
    "%timeit calculate_wbt_numpy(tc, rh)\n",
    "%timeit nb_wbt(tc,rh)\n"
   ]
  },
  {
   "cell_type": "markdown",
   "metadata": {},
   "source": []
  },
  {
   "cell_type": "code",
   "execution_count": null,
   "metadata": {},
   "outputs": [],
   "source": [
    "jtk = jax.numpy.ones((size, ))\n",
    "jmart = jax.numpy.ones((size, ))\n",
    "jva = jax.numpy.ones((size, ))\n",
    "\n",
    "%timeit calculate_bgt_jax(jtk,jmart,jva)\n",
    "%timeit jax_bgt(jtk,jmart,jva)"
   ]
  },
  {
   "cell_type": "code",
   "execution_count": null,
   "metadata": {},
   "outputs": [],
   "source": [
    "b1 = calculate_bgt_jax(jtk,jmart,jva)\n",
    "b2 = jax_bgt(jtk,jmart,jva)\n",
    "\n",
    "assert b1.all() == b2.all()"
   ]
  },
  {
   "cell_type": "code",
   "execution_count": null,
   "metadata": {},
   "outputs": [],
   "source": []
  }
 ],
 "metadata": {
  "language_info": {
   "name": "python"
  }
 },
 "nbformat": 4,
 "nbformat_minor": 2
}
