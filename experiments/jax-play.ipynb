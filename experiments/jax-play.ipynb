{
 "cells": [
  {
   "cell_type": "code",
   "execution_count": 1,
   "metadata": {},
   "outputs": [],
   "source": [
    "import jax\n",
    "jax.config.update(\"jax_enable_x64\", True) # use float64 -- jax by default uses float32"
   ]
  },
  {
   "cell_type": "code",
   "execution_count": 2,
   "metadata": {},
   "outputs": [],
   "source": [
    "def slow_f(x):\n",
    "  return x * x + x * 2"
   ]
  },
  {
   "cell_type": "code",
   "execution_count": 4,
   "metadata": {},
   "outputs": [],
   "source": [
    "x = jax.numpy.ones((5000, 5000))\n",
    "fast_f = jax.jit(slow_f)"
   ]
  },
  {
   "cell_type": "code",
   "execution_count": 5,
   "metadata": {},
   "outputs": [
    {
     "name": "stdout",
     "output_type": "stream",
     "text": [
      "77.5 ms ± 387 µs per loop (mean ± std. dev. of 7 runs, 10 loops each)\n",
      "24.8 ms ± 53.3 µs per loop (mean ± std. dev. of 7 runs, 10 loops each)\n"
     ]
    }
   ],
   "source": [
    "%timeit slow_f(x)\n",
    "%timeit fast_f(x) "
   ]
  },
  {
   "cell_type": "code",
   "execution_count": 7,
   "metadata": {},
   "outputs": [],
   "source": [
    "# a 'simple' numpy to numpy function\n",
    "def calculate_wbt_jax(tc, rh):\n",
    "    tw = (\n",
    "        tc * jax.numpy.arctan(0.151977 * jax.numpy.sqrt(rh + 8.313659))\n",
    "        + jax.numpy.arctan(tc + rh)\n",
    "        - jax.numpy.arctan(rh - 1.676331)\n",
    "        + 0.00391838 * (rh) ** (3 / 2) * jax.numpy.arctan(0.023101 * rh)\n",
    "        - 4.686035\n",
    "    )\n",
    "    return tw"
   ]
  },
  {
   "cell_type": "code",
   "execution_count": 8,
   "metadata": {},
   "outputs": [],
   "source": [
    "jax_wbt = jax.jit(calculate_wbt_jax)"
   ]
  },
  {
   "cell_type": "code",
   "execution_count": 9,
   "metadata": {},
   "outputs": [],
   "source": [
    "import numpy as np\n",
    "size = 1000000\n",
    "tc = np.random.uniform(low=5., high=25., size=size)\n",
    "rh = np.random.uniform(low=60., high=99., size=size)"
   ]
  },
  {
   "cell_type": "code",
   "execution_count": 10,
   "metadata": {},
   "outputs": [
    {
     "name": "stdout",
     "output_type": "stream",
     "text": [
      "(1000000,)\n",
      "<class 'jaxlib.xla_extension.ArrayImpl'>\n"
     ]
    }
   ],
   "source": [
    "w = jax_wbt(tc,rh)\n",
    "print(w.shape)\n",
    "print(type(w))"
   ]
  },
  {
   "cell_type": "code",
   "execution_count": 11,
   "metadata": {},
   "outputs": [
    {
     "name": "stdout",
     "output_type": "stream",
     "text": [
      "33.9 ms ± 337 µs per loop (mean ± std. dev. of 7 runs, 10 loops each)\n",
      "8.87 ms ± 22.8 µs per loop (mean ± std. dev. of 7 runs, 100 loops each)\n"
     ]
    }
   ],
   "source": [
    "# timings with memory created by numpy\n",
    "%timeit calculate_wbt_jax(tc,rh)\n",
    "%timeit jax_wbt(tc,rh)"
   ]
  },
  {
   "cell_type": "code",
   "execution_count": 22,
   "metadata": {},
   "outputs": [
    {
     "name": "stdout",
     "output_type": "stream",
     "text": [
      "8.65 ms ± 19.3 µs per loop (mean ± std. dev. of 7 runs, 100 loops each)\n",
      "16 ms ± 121 µs per loop (mean ± std. dev. of 7 runs, 100 loops each)\n"
     ]
    }
   ],
   "source": [
    "# allocating the arrays with jax seems not to make difference ON CPU when you JIT compile (no copies involved)\n",
    "# but likely to make difference on GPU\n",
    "\n",
    "jtc = jax.numpy.ones((size, ))\n",
    "jrh = jax.numpy.ones((size, ))\n",
    "\n",
    "%timeit calculate_wbt_jax(jtc,jrh)\n",
    "%timeit jax_wbt(jtc,jrh)\n"
   ]
  },
  {
   "cell_type": "code",
   "execution_count": 40,
   "metadata": {},
   "outputs": [],
   "source": [
    "import numba\n",
    "import numpy\n",
    "\n",
    "# compare with numba\n",
    "\n",
    "def calculate_wbt_numpy(tc, rh):\n",
    "    tw = (\n",
    "        tc * numpy.arctan(0.151977 * numpy.sqrt(rh + 8.313659))\n",
    "        + numpy.arctan(tc + rh)\n",
    "        - numpy.arctan(rh - 1.676331)\n",
    "        + 0.00391838 * (rh) ** (3 / 2) * numpy.arctan(0.023101 * rh)\n",
    "        - 4.686035\n",
    "    )\n",
    "    return tw\n",
    "\n",
    "nb_wbt = numba.jit(nopython=True, nogil=True, parallel=False)(calculate_wbt_numpy)"
   ]
  },
  {
   "cell_type": "code",
   "execution_count": 41,
   "metadata": {},
   "outputs": [
    {
     "name": "stdout",
     "output_type": "stream",
     "text": [
      "42.6 ms ± 61 µs per loop (mean ± std. dev. of 7 runs, 10 loops each)\n",
      "40.1 ms ± 12.1 µs per loop (mean ± std. dev. of 7 runs, 10 loops each)\n"
     ]
    }
   ],
   "source": [
    "%timeit calculate_wbt_numpy(tc, rh)\n",
    "%timeit nb_wbt(tc,rh)\n"
   ]
  },
  {
   "cell_type": "markdown",
   "metadata": {},
   "source": []
  },
  {
   "cell_type": "markdown",
   "metadata": {},
   "source": []
  }
 ],
 "metadata": {
  "kernelspec": {
   "display_name": "cascade",
   "language": "python",
   "name": "python3"
  },
  "language_info": {
   "codemirror_mode": {
    "name": "ipython",
    "version": 3
   },
   "file_extension": ".py",
   "mimetype": "text/x-python",
   "name": "python",
   "nbconvert_exporter": "python",
   "pygments_lexer": "ipython3",
   "version": "3.10.12"
  },
  "orig_nbformat": 4
 },
 "nbformat": 4,
 "nbformat_minor": 2
}
