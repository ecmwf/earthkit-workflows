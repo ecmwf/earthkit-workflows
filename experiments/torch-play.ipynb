{
 "cells": [
  {
   "cell_type": "code",
   "execution_count": null,
   "metadata": {},
   "outputs": [],
   "source": [
    "import torch\n",
    "dtype = torch.float64\n",
    "device = torch.device(\"cpu\")\n",
    "# torch.set_grad_enabled(False) # seems not to improve performance (maybe only reduces memory)\n",
    "size = 1000000"
   ]
  },
  {
   "cell_type": "code",
   "execution_count": null,
   "metadata": {},
   "outputs": [],
   "source": [
    "tc = torch.randn(size, device=device, dtype=dtype)\n",
    "rh = torch.randn(size, device=device, dtype=dtype)"
   ]
  },
  {
   "cell_type": "code",
   "execution_count": null,
   "metadata": {},
   "outputs": [],
   "source": [
    "# a 'simple' numpy to numpy function\n",
    "def calculate_wbt_torch(tc, rh):\n",
    "    tw = (\n",
    "        tc * torch.arctan(0.151977 * torch.sqrt(rh + 8.313659))\n",
    "        + torch.arctan(tc + rh)\n",
    "        - torch.arctan(rh - 1.676331)\n",
    "        + 0.00391838 * (rh) ** (3 / 2) * torch.arctan(0.023101 * rh)\n",
    "        - 4.686035\n",
    "    )\n",
    "    return tw"
   ]
  },
  {
   "cell_type": "code",
   "execution_count": null,
   "metadata": {},
   "outputs": [],
   "source": [
    "%timeit calculate_wbt_torch(tc, rh)"
   ]
  },
  {
   "cell_type": "markdown",
   "metadata": {},
   "source": []
  },
  {
   "cell_type": "code",
   "execution_count": null,
   "metadata": {},
   "outputs": [],
   "source": [
    "# try Jax with more complex functions including (pure)functions that call (pure)functions \n",
    "import math\n",
    "\n",
    "def kelvin_to_celsius(tk):\n",
    "    tc = tk - 273.15\n",
    "    return tc\n",
    "\n",
    "def calculate_bgt_torch(t_k, mrt, va):\n",
    "    f = (1.1e8 * va**0.6) / (0.98 * 0.15**0.4)\n",
    "    a = f / 2\n",
    "    b = -f * t_k - mrt**4\n",
    "    rt1 = 3 ** (1 / 3)\n",
    "    rt2 = math.sqrt(3) * torch.sqrt(27 * a**4 - 16 * b**3) + 9 * a**2\n",
    "    rt3 = 2 * 2 ** (2 / 3) * b\n",
    "    a = a.clip(min=0)\n",
    "    bgt_quartic = -1 / 2 * torch.sqrt(\n",
    "        rt3 / (rt1 * rt2 ** (1 / 3)) + (2 ** (1 / 3) * rt2 ** (1 / 3)) / 3 ** (2 / 3)\n",
    "    ) + 1 / 2 * torch.sqrt(\n",
    "        (4 * a)\n",
    "        / torch.sqrt(\n",
    "            rt3 / (rt1 * rt2 ** (1 / 3))\n",
    "            + (2 ** (1 / 3) * rt2 ** (1 / 3)) / 3 ** (2 / 3)\n",
    "        )\n",
    "        - (2 ** (1 / 3) * rt2 ** (1 / 3)) / 3 ** (2 / 3)\n",
    "        - rt3 / (rt1 * rt2 ** (1 / 3))\n",
    "    )\n",
    "    bgt_c = kelvin_to_celsius(bgt_quartic)\n",
    "    return bgt_c\n"
   ]
  },
  {
   "cell_type": "code",
   "execution_count": null,
   "metadata": {},
   "outputs": [],
   "source": [
    "tk = torch.randn(size, device=device, dtype=dtype)\n",
    "mrt = torch.randn(size, device=device, dtype=dtype)\n",
    "va = torch.randn(size, device=device, dtype=dtype)"
   ]
  },
  {
   "cell_type": "code",
   "execution_count": null,
   "metadata": {},
   "outputs": [],
   "source": [
    "# torch doesn't do as well as say JAX because it was not able to compile and fuse the operations\n",
    "%timeit calculate_bgt_torch(tk, mrt, va)"
   ]
  }
 ],
 "metadata": {
  "language_info": {
   "name": "python"
  }
 },
 "nbformat": 4,
 "nbformat_minor": 2
}
