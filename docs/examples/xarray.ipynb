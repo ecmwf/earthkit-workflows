{
 "cells": [
  {
   "cell_type": "markdown",
   "metadata": {},
   "source": [
    "# Xarray Example of Graph Execution"
   ]
  },
  {
   "cell_type": "markdown",
   "metadata": {},
   "source": [
    "## Graph Execution"
   ]
  },
  {
   "cell_type": "markdown",
   "metadata": {},
   "source": [
    "To use a different backend for the execution, pass the required backend to the `Fluent` constructor. Currently supported backends include `array_api_compat`, which is the default, `xarray` and `jax`."
   ]
  },
  {
   "cell_type": "code",
   "execution_count": null,
   "metadata": {},
   "outputs": [],
   "source": [
    "import xarray as xr\n",
    "\n",
    "ds = xr.load_dataset('rasm.nc')\n",
    "print(ds)"
   ]
  },
  {
   "cell_type": "code",
   "execution_count": null,
   "metadata": {
    "tags": []
   },
   "outputs": [],
   "source": [
    "from cascade.fluent import Fluent, Payload\n",
    "from cascade.backends.xarray import XArrayBackend\n",
    "\n",
    "graph = (\n",
    "    Fluent(backend=XArrayBackend)\n",
    "    .source(xr.load_dataset, (\"rasm.nc\",))\n",
    "    .map(Payload(lambda x: x.groupby(\"time.season\")))\n",
    "    .sum(dim=\"time\")\n",
    "    .expand(\"season\", 4, 1, 0)\n",
    "    .minimum(\"season\")\n",
    "    .graph()\n",
    ")"
   ]
  },
  {
   "cell_type": "code",
   "execution_count": null,
   "metadata": {
    "tags": []
   },
   "outputs": [],
   "source": [
    "from cascade.executors.dask import DaskLocalExecutor\n",
    "\n",
    "DaskLocalExecutor.execute(graph, memory_limit=\"5GB\", n_workers=1, threads_per_worker=1)"
   ]
  }
 ],
 "metadata": {
  "kernelspec": {
   "display_name": "env",
   "language": "python",
   "name": "python3"
  },
  "language_info": {
   "codemirror_mode": {
    "name": "ipython",
    "version": 3
   },
   "file_extension": ".py",
   "mimetype": "text/x-python",
   "name": "python",
   "nbconvert_exporter": "python",
   "pygments_lexer": "ipython3",
   "version": "3.10.10"
  }
 },
 "nbformat": 4,
 "nbformat_minor": 4
}
